{
  "cells": [
    {
      "cell_type": "code",
      "execution_count": null,
      "id": "a0fcafea",
      "metadata": {
        "id": "a0fcafea",
        "outputId": "6b84d87e-9b96-439f-f727-d0579243ca56"
      },
      "outputs": [
        {
          "name": "stdout",
          "output_type": "stream",
          "text": [
            "---starting with the hackathon---\n"
          ]
        }
      ],
      "source": [
        "print(\"---starting with the hackathon---\")"
      ]
    },
    {
      "cell_type": "code",
      "source": [
        "print(\"hello\")"
      ],
      "metadata": {
        "id": "NiemBuvEYHXp",
        "colab": {
          "base_uri": "https://localhost:8080/"
        },
        "outputId": "b82f92a3-3dfc-46fa-c067-9a5408a9df0d"
      },
      "id": "NiemBuvEYHXp",
      "execution_count": 1,
      "outputs": [
        {
          "output_type": "stream",
          "name": "stdout",
          "text": [
            "hello\n"
          ]
        }
      ]
    },
    {
      "cell_type": "code",
      "source": [],
      "metadata": {
        "id": "Dy47C-p9Y68z"
      },
      "id": "Dy47C-p9Y68z",
      "execution_count": null,
      "outputs": []
    }
  ],
  "metadata": {
    "kernelspec": {
      "display_name": "base",
      "language": "python",
      "name": "python3"
    },
    "language_info": {
      "codemirror_mode": {
        "name": "ipython",
        "version": 3
      },
      "file_extension": ".py",
      "mimetype": "text/x-python",
      "name": "python",
      "nbconvert_exporter": "python",
      "pygments_lexer": "ipython3",
      "version": "3.12.4"
    },
    "colab": {
      "provenance": []
    }
  },
  "nbformat": 4,
  "nbformat_minor": 5
}